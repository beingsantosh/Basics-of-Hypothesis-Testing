{
 "cells": [
  {
   "cell_type": "code",
   "execution_count": 1,
   "metadata": {},
   "outputs": [],
   "source": [
    "import pandas as pd\n",
    "import numpy as np\n",
    "import scipy.stats as stats\n",
    "import math\n",
    "import warnings\n",
    "import matplotlib.pyplot as plt\n",
    "warnings.filterwarnings('ignore')"
   ]
  },
  {
   "cell_type": "code",
   "execution_count": 13,
   "metadata": {},
   "outputs": [],
   "source": [
    "ages_school = stats.poisson.rvs(loc=18,mu = 35, size = 1500)\n",
    "ages_classA = stats.poisson.rvs(loc=18,mu = 31, size = 60)\n",
    "ages_classB = stats.poisson.rvs(loc=18,mu = 33, size = 60)"
   ]
  },
  {
   "cell_type": "code",
   "execution_count": 18,
   "metadata": {},
   "outputs": [],
   "source": [
    "ttest,pvalue = stats.ttest_ind(ages_classA,ages_classB,equal_var=False)"
   ]
  },
  {
   "cell_type": "code",
   "execution_count": 19,
   "metadata": {},
   "outputs": [
    {
     "name": "stdout",
     "output_type": "stream",
     "text": [
      "Pvalue is 0.0021832320669609266. Null hypothesis is rejected which means, difference in population mean for both features(a and b) are not same\n"
     ]
    }
   ],
   "source": [
    "if pvalue<0.05:\n",
    "    print(\"Pvalue is {0}. Null hypothesis is rejected which means, difference in population mean for both features(a and b) are not same\".format(pvalue))\n",
    "else:\n",
    "    print(\"Pvalue is {0}. Null hypothesis cannot be rejected which means difference in population mean for both features(a and b) are same\".format(pvalue))"
   ]
  },
  {
   "cell_type": "markdown",
   "metadata": {},
   "source": [
    "## This compares the two numerical features from sample data and predicts if same behavior would be there in population too or not.\n",
    "## null hypothesis = difference in mean for both features are same\n",
    "## alternate hypothesis = difference in mean for both features are not same"
   ]
  },
  {
   "cell_type": "code",
   "execution_count": null,
   "metadata": {},
   "outputs": [],
   "source": []
  }
 ],
 "metadata": {
  "kernelspec": {
   "display_name": "Python 3",
   "language": "python",
   "name": "python3"
  },
  "language_info": {
   "codemirror_mode": {
    "name": "ipython",
    "version": 3
   },
   "file_extension": ".py",
   "mimetype": "text/x-python",
   "name": "python",
   "nbconvert_exporter": "python",
   "pygments_lexer": "ipython3",
   "version": "3.7.4"
  }
 },
 "nbformat": 4,
 "nbformat_minor": 2
}
