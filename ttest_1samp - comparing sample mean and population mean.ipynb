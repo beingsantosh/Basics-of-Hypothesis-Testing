{
 "cells": [
  {
   "cell_type": "markdown",
   "metadata": {},
   "source": [
    "## Poisson distribution"
   ]
  },
  {
   "cell_type": "code",
   "execution_count": 47,
   "metadata": {},
   "outputs": [],
   "source": [
    "import pandas as pd\n",
    "import numpy as np\n",
    "import scipy.stats as stats\n",
    "import math\n",
    "import warnings\n",
    "import matplotlib.pyplot as plt\n",
    "warnings.filterwarnings('ignore')"
   ]
  },
  {
   "cell_type": "markdown",
   "metadata": {},
   "source": [
    "## comparing the mean of class(sample) with the school(population)"
   ]
  },
  {
   "cell_type": "code",
   "execution_count": 115,
   "metadata": {},
   "outputs": [],
   "source": [
    "ages_school = stats.poisson.rvs(loc=18,mu = 35, size = 1500)\n",
    "ages_class = stats.poisson.rvs(loc=18,mu = 37, size = 60)"
   ]
  },
  {
   "cell_type": "code",
   "execution_count": 116,
   "metadata": {},
   "outputs": [
    {
     "name": "stdout",
     "output_type": "stream",
     "text": [
      "mean of the class::55.6\n",
      "mean of the school::52.970666666666666\n"
     ]
    }
   ],
   "source": [
    "print('mean of the class::{}'.format(ages_class.mean()))\n",
    "print('mean of the school::{}'.format(ages_school.mean()))"
   ]
  },
  {
   "cell_type": "markdown",
   "metadata": {},
   "source": [
    "## calculating the pvalue with one sample test"
   ]
  },
  {
   "cell_type": "code",
   "execution_count": 117,
   "metadata": {},
   "outputs": [],
   "source": [
    "ttest, pvalue = stats.ttest_1samp(a=ages_class,popmean=ages_school.mean())"
   ]
  },
  {
   "cell_type": "code",
   "execution_count": 118,
   "metadata": {},
   "outputs": [
    {
     "name": "stdout",
     "output_type": "stream",
     "text": [
      "Pvalue is 0.009280423755187946. Null hypothesis is rejected which means there is difference between class mean and school mean\n"
     ]
    }
   ],
   "source": [
    "if pvalue<0.05:\n",
    "    print(\"Pvalue is {0}. Null hypothesis is rejected which means there is difference between class mean and school mean\".format(pvalue))\n",
    "else:\n",
    "    print(\"Pvalue is {0}. Null hypothesis cannot be rejected which means class mean and school mean are same\".format(pvalue))"
   ]
  },
  {
   "cell_type": "markdown",
   "metadata": {},
   "source": [
    "## different scenarios\n",
    "\n",
    "\n",
    "## 1\n",
    "\n",
    "<code>Python   \n",
    "ages_school = stats.poisson.rvs(loc=18,mu = 35, size = 1500)\n",
    "ages_class = stats.poisson.rvs(loc=18,mu = 33, size = 60)\n",
    "</code>\n",
    "\n",
    "Pvalue is 0.00015987422737636804. Null hypothesis is rejected which means there is difference between class mean and school mean\n",
    "\n",
    "## 2\n",
    "<code>Python \n",
    "ages_school = stats.poisson.rvs(loc=18,mu = 35, size = 1500)\n",
    "\n",
    "ages_class = stats.poisson.rvs(loc=18,mu = 34, size = 60)\n",
    "</code>\n",
    "Pvalue is 0.05745338372938394. Null hypothesis cannot be rejected which means class mean and school mean are same\n",
    "\n",
    "## 3\n",
    "<code>Python\n",
    "ages_school = stats.poisson.rvs(loc=18,mu = 35, size = 1500)\n",
    "\n",
    "ages_class = stats.poisson.rvs(loc=18,mu = 35, size = 60)\n",
    "</code>\n",
    "Pvalue is 0.3231020075252351. Null hypothesis cannot be rejected which means class mean and school mean are same\n",
    "\n",
    "## 4\n",
    "<code>Python\n",
    "ages_school = stats.poisson.rvs(loc=18,mu = 35, size = 1500)\n",
    "\n",
    "ages_class = stats.poisson.rvs(loc=18,mu = 36, size = 60)\n",
    "</code>\n",
    "Pvalue is 0.056817811606710435. Null hypothesis cannot be rejected which means class mean and school mean are same\n",
    "\n",
    "## 5 \n",
    "<code>Python\n",
    "ages_school = stats.poisson.rvs(loc=18,mu = 35, size = 1500)\n",
    "\n",
    "ages_class = stats.poisson.rvs(loc=18,mu = 37, size = 60)\n",
    "</code>\n",
    "Pvalue is 0.009280423755187946. Null hypothesis is rejected which means there is difference between class mean and school mean"
   ]
  },
  {
   "cell_type": "code",
   "execution_count": null,
   "metadata": {},
   "outputs": [],
   "source": []
  }
 ],
 "metadata": {
  "kernelspec": {
   "display_name": "Python 3",
   "language": "python",
   "name": "python3"
  },
  "language_info": {
   "codemirror_mode": {
    "name": "ipython",
    "version": 3
   },
   "file_extension": ".py",
   "mimetype": "text/x-python",
   "name": "python",
   "nbconvert_exporter": "python",
   "pygments_lexer": "ipython3",
   "version": "3.7.4"
  }
 },
 "nbformat": 4,
 "nbformat_minor": 2
}
